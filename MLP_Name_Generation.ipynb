{
  "nbformat": 4,
  "nbformat_minor": 0,
  "metadata": {
    "colab": {
      "provenance": []
    },
    "kernelspec": {
      "name": "python3",
      "display_name": "Python 3"
    },
    "language_info": {
      "name": "python"
    }
  },
  "cells": [
    {
      "cell_type": "code",
      "execution_count": 40,
      "metadata": {
        "id": "44Oo_F2ynIKR"
      },
      "outputs": [],
      "source": [
        "### https://www.jmlr.org/papers/volume3/bengio03a/bengio03a.pdf\n",
        "\n",
        "import torch\n",
        "import torch.nn.functional as F\n",
        "import matplotlib.pyplot as plt # for making figures\n",
        "%matplotlib inline"
      ]
    },
    {
      "cell_type": "code",
      "source": [
        "words = open('names.txt', 'r').read().splitlines()"
      ],
      "metadata": {
        "id": "CnUHfV59neKj"
      },
      "execution_count": 41,
      "outputs": []
    },
    {
      "cell_type": "code",
      "source": [
        "len(words)\n",
        "#words = words[:5]\n"
      ],
      "metadata": {
        "colab": {
          "base_uri": "https://localhost:8080/"
        },
        "id": "KI1lh-HtnhfS",
        "outputId": "eb98155f-0f85-43ba-8c49-f22e3679ef86"
      },
      "execution_count": 42,
      "outputs": [
        {
          "output_type": "execute_result",
          "data": {
            "text/plain": [
              "32033"
            ]
          },
          "metadata": {},
          "execution_count": 42
        }
      ]
    },
    {
      "cell_type": "code",
      "source": [
        "chars = sorted(list(set(''.join(words))))\n",
        "stoi = {s: i+1 for i,s in enumerate(chars)}\n",
        "stoi['.'] = 0\n",
        "itos = {i: s for s,i in stoi.items()}"
      ],
      "metadata": {
        "id": "3g8KoAWqtvsb"
      },
      "execution_count": 43,
      "outputs": []
    },
    {
      "cell_type": "code",
      "source": [
        "# Building dataset\n",
        "block_size = 3 # context length: how many characters do we take to\n",
        "X = []\n",
        "Y = []\n",
        "\n",
        "for w in words[0:5]:\n",
        "  #print(w)\n",
        "  context = [0] * block_size\n",
        "\n",
        "  for c in w + '.':\n",
        "    yindex = stoi[c]\n",
        "    X.append(context)\n",
        "    Y.append(yindex)\n",
        "    #print(''.join(itos[i] for i in context), '--->', c)\n",
        "    context = context[1:] + [yindex]\n",
        "\n",
        "X = torch.tensor(X)\n",
        "Y = torch.tensor(Y)\n",
        "\n"
      ],
      "metadata": {
        "id": "RbhxdvWfv-5W"
      },
      "execution_count": 44,
      "outputs": []
    },
    {
      "cell_type": "code",
      "source": [
        "# build the dataset\n",
        "block_size = 3 # context length: how many characters do we take to predict the next one?\n",
        "\n",
        "def build_dataset(words):\n",
        "  X, Y = [], []\n",
        "  for w in words:\n",
        "\n",
        "    #print(w)\n",
        "    context = [0] * block_size\n",
        "    for ch in w + '.':\n",
        "      ix = stoi[ch]\n",
        "      X.append(context)\n",
        "      Y.append(ix)\n",
        "      #print(''.join(itos[i] for i in context), '--->', itos[ix])\n",
        "      context = context[1:] + [ix] # crop and append\n",
        "\n",
        "  X = torch.tensor(X)\n",
        "  Y = torch.tensor(Y)\n",
        "  print(X.shape, Y.shape)\n",
        "  return X, Y\n",
        "\n",
        "import random\n",
        "random.seed(42)\n",
        "random.shuffle(words)\n",
        "n1 = int(0.8*len(words))\n",
        "n2 = int(0.9*len(words))\n",
        "\n",
        "Xtr, Ytr = build_dataset(words[:n1])\n",
        "Xdev, Ydev = build_dataset(words[n1:n2])\n",
        "Xte, Yte = build_dataset(words[n2:])"
      ],
      "metadata": {
        "colab": {
          "base_uri": "https://localhost:8080/"
        },
        "id": "iT3xrg2AV1tf",
        "outputId": "265650fb-a760-4b4b-bc00-a12c577af513"
      },
      "execution_count": 45,
      "outputs": [
        {
          "output_type": "stream",
          "name": "stdout",
          "text": [
            "torch.Size([182625, 3]) torch.Size([182625])\n",
            "torch.Size([22655, 3]) torch.Size([22655])\n",
            "torch.Size([22866, 3]) torch.Size([22866])\n"
          ]
        }
      ]
    },
    {
      "cell_type": "code",
      "source": [
        "X.shape, Y.shape"
      ],
      "metadata": {
        "colab": {
          "base_uri": "https://localhost:8080/"
        },
        "id": "j7jpN0AG9K4W",
        "outputId": "f1cbf001-5797-4116-ccbd-688b95f0618f"
      },
      "execution_count": 46,
      "outputs": [
        {
          "output_type": "execute_result",
          "data": {
            "text/plain": [
              "(torch.Size([32, 3]), torch.Size([32]))"
            ]
          },
          "metadata": {},
          "execution_count": 46
        }
      ]
    },
    {
      "cell_type": "code",
      "source": [
        "C = torch.randn((27,2)) # 27 different characters # 2 dimensinal space C= lookup table\n",
        "# C is embedding table"
      ],
      "metadata": {
        "id": "DyXwXAIK9L_9"
      },
      "execution_count": 47,
      "outputs": []
    },
    {
      "cell_type": "code",
      "source": [
        "# Embed a single integer 5 using lookup table C\n",
        "print(C[5])\n",
        "\n",
        "# is equal to\n",
        "#F.one_hot(torch.tensor(5), num_classes=27).float() @ C\n",
        "\n",
        "# Embedding multiple numbers\n",
        "#C[torch.tensor([5,6,7])]\n",
        "\n",
        "C[X]\n",
        "C[X].shape # original input shape * 2 X.shape = 32*3"
      ],
      "metadata": {
        "colab": {
          "base_uri": "https://localhost:8080/"
        },
        "id": "Ov4dDMT-98Da",
        "outputId": "05f6fb6a-53c5-4ab9-c541-2d99ebaacd3f"
      },
      "execution_count": 48,
      "outputs": [
        {
          "output_type": "stream",
          "name": "stdout",
          "text": [
            "tensor([-0.5924,  1.4288])\n"
          ]
        },
        {
          "output_type": "execute_result",
          "data": {
            "text/plain": [
              "torch.Size([32, 3, 2])"
            ]
          },
          "metadata": {},
          "execution_count": 48
        }
      ]
    },
    {
      "cell_type": "code",
      "source": [
        "X[13][2]"
      ],
      "metadata": {
        "colab": {
          "base_uri": "https://localhost:8080/"
        },
        "id": "_xAzZguIDJhr",
        "outputId": "75715822-71ca-4e5a-d6b3-ee76f0c0db43"
      },
      "execution_count": 49,
      "outputs": [
        {
          "output_type": "execute_result",
          "data": {
            "text/plain": [
              "tensor(1)"
            ]
          },
          "metadata": {},
          "execution_count": 49
        }
      ]
    },
    {
      "cell_type": "code",
      "source": [
        "C[X][13][2]"
      ],
      "metadata": {
        "colab": {
          "base_uri": "https://localhost:8080/"
        },
        "id": "Wx34ASDXDUBv",
        "outputId": "190154d9-81ca-4d10-c9c7-91aa7a94834c"
      },
      "execution_count": 50,
      "outputs": [
        {
          "output_type": "execute_result",
          "data": {
            "text/plain": [
              "tensor([-1.0717, -0.9892])"
            ]
          },
          "metadata": {},
          "execution_count": 50
        }
      ]
    },
    {
      "cell_type": "code",
      "source": [
        "C[1] # X[13][2]"
      ],
      "metadata": {
        "colab": {
          "base_uri": "https://localhost:8080/"
        },
        "id": "0C7-zm5eD1TM",
        "outputId": "eb96afa4-82e9-4e10-bfac-401c5fc9d8f7"
      },
      "execution_count": 51,
      "outputs": [
        {
          "output_type": "execute_result",
          "data": {
            "text/plain": [
              "tensor([-1.0717, -0.9892])"
            ]
          },
          "metadata": {},
          "execution_count": 51
        }
      ]
    },
    {
      "cell_type": "code",
      "source": [
        "emb = C[X] # X.shape = 32*3 C[X].shape = 32*3*2\n",
        "emb.shape"
      ],
      "metadata": {
        "colab": {
          "base_uri": "https://localhost:8080/"
        },
        "id": "Ebt-JaQoFLYg",
        "outputId": "074004db-3166-472b-b222-537a0a6616f2"
      },
      "execution_count": 52,
      "outputs": [
        {
          "output_type": "execute_result",
          "data": {
            "text/plain": [
              "torch.Size([32, 3, 2])"
            ]
          },
          "metadata": {},
          "execution_count": 52
        }
      ]
    },
    {
      "cell_type": "code",
      "source": [
        "W1 = torch.randn((6,100)) # 3 characters input in layer one each represented by 2 dimensions. so 3*2=6 weights.\n",
        "# 2nd parameter = no of neurons in next layer\n",
        "b1 = torch.randn(100)\n"
      ],
      "metadata": {
        "id": "qcJkqwiNFlwv"
      },
      "execution_count": 53,
      "outputs": []
    },
    {
      "cell_type": "code",
      "source": [
        "# We want to calculate - emb @ W + b1\n",
        "# Flatten embedding - 3 inputs each of dimenstion 2 -> concatenate these. Concatenation will lead to 32 * 6\n",
        "# emb[:, 0, :]\n",
        "# emb[:, 1, :]\n",
        "# emb[:, 2, :]\n",
        "\n",
        "#torch.cat([emb[:, 0, :], emb[:, 1, :], emb[:, 2, :]], 1).shape\n",
        "#torch.cat(torch.unbind(emb, 1), 1).shape\n",
        "\n",
        "# emb.view(32,6)\n",
        "\n",
        "#h = emb.view(emb.shape[0], 6) @ W1 + b1\n",
        "# h.shape # 32 inputs or examples extracted from 5 words and 100 neurons\n",
        "h = torch.tanh(emb.view(emb.shape[0], 6) @ W1 + b1)\n",
        "h\n",
        "\n",
        "# broadcasting is happening in + b1\n",
        "# 32 * 100 +\n",
        "#    * 100"
      ],
      "metadata": {
        "colab": {
          "base_uri": "https://localhost:8080/"
        },
        "id": "LWwf8X2lmB_D",
        "outputId": "7705d757-2ef7-4c88-8517-956126f34860"
      },
      "execution_count": 54,
      "outputs": [
        {
          "output_type": "execute_result",
          "data": {
            "text/plain": [
              "tensor([[ 0.7840, -0.9993, -0.9463,  ...,  0.9925,  0.6852, -0.9338],\n",
              "        [-0.4813, -0.9941,  0.8522,  ...,  0.3598,  0.9769, -0.4945],\n",
              "        [ 0.8636, -0.9637,  0.9305,  ...,  0.9941, -0.7272,  0.9496],\n",
              "        ...,\n",
              "        [-0.8956, -0.9235,  0.2241,  ..., -0.8929,  0.5962,  0.9997],\n",
              "        [ 0.6689, -0.9868, -0.9181,  ...,  0.5311,  0.0264,  0.8418],\n",
              "        [-0.9900, -0.9929, -0.9441,  ...,  0.4097,  0.9841, -0.9990]])"
            ]
          },
          "metadata": {},
          "execution_count": 54
        }
      ]
    },
    {
      "cell_type": "code",
      "source": [
        "W2 = torch.randn((100,27))  # 27 characters - outputs\n",
        "b2 = torch.randn(27)\n",
        "\n",
        "#print(h.shape)\n",
        "\n",
        "logits = h @ W2 + b2\n",
        "logits.shape\n",
        "\n",
        "counts = logits.exp()\n",
        "prob = counts / counts.sum(1, keepdims=True)\n",
        "prob.shape # 32 * 27\n",
        "prob[0].sum()"
      ],
      "metadata": {
        "colab": {
          "base_uri": "https://localhost:8080/"
        },
        "id": "L9sM1dxTrq9n",
        "outputId": "bd44cc7e-4c99-4cf2-852f-5be38398e26f"
      },
      "execution_count": 55,
      "outputs": [
        {
          "output_type": "execute_result",
          "data": {
            "text/plain": [
              "tensor(1.0000)"
            ]
          },
          "metadata": {},
          "execution_count": 55
        }
      ]
    },
    {
      "cell_type": "code",
      "source": [
        "Y"
      ],
      "metadata": {
        "colab": {
          "base_uri": "https://localhost:8080/"
        },
        "id": "cd_wK2x_tTrX",
        "outputId": "9929cddb-4f14-4f61-c44f-4d7608ea85ba"
      },
      "execution_count": 56,
      "outputs": [
        {
          "output_type": "execute_result",
          "data": {
            "text/plain": [
              "tensor([ 5, 13, 13,  1,  0, 15, 12,  9, 22,  9,  1,  0,  1, 22,  1,  0,  9, 19,\n",
              "         1,  2,  5, 12, 12,  1,  0, 19, 15, 16,  8,  9,  1,  0])"
            ]
          },
          "metadata": {},
          "execution_count": 56
        }
      ]
    },
    {
      "cell_type": "code",
      "source": [
        "loss = - prob[torch.arange(32), Y].log().mean()\n",
        "loss"
      ],
      "metadata": {
        "colab": {
          "base_uri": "https://localhost:8080/"
        },
        "id": "lQlLJUIItVsT",
        "outputId": "6c00a33a-16a8-47e9-8cf6-1d33668cffe7"
      },
      "execution_count": 57,
      "outputs": [
        {
          "output_type": "execute_result",
          "data": {
            "text/plain": [
              "tensor(17.2609)"
            ]
          },
          "metadata": {},
          "execution_count": 57
        }
      ]
    },
    {
      "cell_type": "code",
      "source": [
        "##### Main Implementation ######\n"
      ],
      "metadata": {
        "id": "EOg0Ix93WixQ"
      },
      "execution_count": 58,
      "outputs": []
    },
    {
      "cell_type": "code",
      "source": [
        "Xtr.shape, Ytr.shape"
      ],
      "metadata": {
        "colab": {
          "base_uri": "https://localhost:8080/"
        },
        "id": "c2BN9K8OWnwB",
        "outputId": "7b0c0208-0744-4bac-bc65-3b2a717f9a8e"
      },
      "execution_count": 59,
      "outputs": [
        {
          "output_type": "execute_result",
          "data": {
            "text/plain": [
              "(torch.Size([182625, 3]), torch.Size([182625]))"
            ]
          },
          "metadata": {},
          "execution_count": 59
        }
      ]
    },
    {
      "cell_type": "code",
      "source": [
        "g = torch.Generator().manual_seed(2147483647) # for reproducibility\n",
        "C = torch.randn((27, 10), generator=g)\n",
        "W1 = torch.randn((30, 200), generator=g)\n",
        "b1 = torch.randn(200, generator=g)\n",
        "W2 = torch.randn((200, 27), generator=g)\n",
        "b2 = torch.randn(27, generator=g)\n",
        "parameters = [C, W1, b1, W2, b2]"
      ],
      "metadata": {
        "id": "5VyYxcJPzawk"
      },
      "execution_count": 60,
      "outputs": []
    },
    {
      "cell_type": "code",
      "source": [
        "sum(p.nelement() for p in parameters) # number of parameters in total"
      ],
      "metadata": {
        "colab": {
          "base_uri": "https://localhost:8080/"
        },
        "id": "K8vufjvZXQEx",
        "outputId": "6943e2fb-6dde-4b66-e7d8-e20dae212199"
      },
      "execution_count": 61,
      "outputs": [
        {
          "output_type": "execute_result",
          "data": {
            "text/plain": [
              "11897"
            ]
          },
          "metadata": {},
          "execution_count": 61
        }
      ]
    },
    {
      "cell_type": "code",
      "source": [
        "for p in parameters:\n",
        "  p.requires_grad = True"
      ],
      "metadata": {
        "id": "AtHOWIp7XiWC"
      },
      "execution_count": 62,
      "outputs": []
    },
    {
      "cell_type": "code",
      "source": [
        "lre = torch.linspace(-3, 0, 1000) # learning rate - 10 pow -3 = 0.1 to 10 pow 0 = 1 # 1000 values between these\n",
        "lrs = 10**lre"
      ],
      "metadata": {
        "id": "vzF2rJLZXmSl"
      },
      "execution_count": 63,
      "outputs": []
    },
    {
      "cell_type": "code",
      "source": [
        "lri = []\n",
        "lossi = []\n",
        "stepi = []"
      ],
      "metadata": {
        "id": "345uEUfbYGpZ"
      },
      "execution_count": 64,
      "outputs": []
    },
    {
      "cell_type": "code",
      "source": [
        "for i in range(200000):\n",
        "  # minibatch construct\n",
        "  ix = torch.randint(0, Xtr.shape[0], (32,))\n",
        "\n",
        "  #forward pass\n",
        "  emb = C[Xtr[ix]]  # [32,3,10]\n",
        "  h = torch.tanh(emb.view(-1, 30) @ W1 + b1) # (32, 200)\n",
        "  logits = h @ W2 + b2 # [32 * 27]\n",
        "  loss = F.cross_entropy(logits, Ytr[ix]) # count by exp, normalize, log, mean, -ve\n",
        "  #print(loss.item())\n",
        "\n",
        "  #backward pass\n",
        "  for p in parameters:\n",
        "    p.grad = None\n",
        "\n",
        "  loss.backward()\n",
        "\n",
        "  # update\n",
        "  #lr = lrs[i]\n",
        "  lr = 0.1 if i < 100000 else 0.01 # learning rate\n",
        "  for p in parameters:\n",
        "    p.data = p.data - lr * p.grad\n",
        "\n",
        "  # track stats\n",
        "  #lri.append(lre[i])\n",
        "  stepi.append(i)\n",
        "  lossi.append(loss.log10().item())\n",
        "\n",
        "print(loss.item())\n",
        ""
      ],
      "metadata": {
        "colab": {
          "base_uri": "https://localhost:8080/"
        },
        "id": "iuzsJbdDYKzh",
        "outputId": "6bdffb54-db66-402e-dc7a-71502877edc3"
      },
      "execution_count": 66,
      "outputs": [
        {
          "output_type": "stream",
          "name": "stdout",
          "text": [
            "2.054163932800293\n"
          ]
        }
      ]
    },
    {
      "cell_type": "code",
      "source": [
        "plt.plot(stepi, lossi)"
      ],
      "metadata": {
        "colab": {
          "base_uri": "https://localhost:8080/",
          "height": 448
        },
        "id": "4KE9oFOSeBxr",
        "outputId": "a5c143e5-4fc5-4e82-860d-6ff9513fb5e6"
      },
      "execution_count": 67,
      "outputs": [
        {
          "output_type": "execute_result",
          "data": {
            "text/plain": [
              "[<matplotlib.lines.Line2D at 0x7dda173cb910>]"
            ]
          },
          "metadata": {},
          "execution_count": 67
        },
        {
          "output_type": "display_data",
          "data": {
            "text/plain": [
              "<Figure size 640x480 with 1 Axes>"
            ],
            "image/png": "[encoded data removed]"
          },
          "metadata": {}
        }
      ]
    },
    {
      "cell_type": "code",
      "source": [
        "emb = C[Xtr] # (32, 3, 2)\n",
        "h = torch.tanh(emb.view(-1, 30) @ W1 + b1) # (32, 100)\n",
        "logits = h @ W2 + b2 # (32, 27)\n",
        "loss = F.cross_entropy(logits, Ytr)\n",
        "loss"
      ],
      "metadata": {
        "colab": {
          "base_uri": "https://localhost:8080/"
        },
        "id": "Y_SZur-peUmV",
        "outputId": "4bfea723-74aa-417d-f350-5f7c0d487287"
      },
      "execution_count": 68,
      "outputs": [
        {
          "output_type": "execute_result",
          "data": {
            "text/plain": [
              "tensor(2.1223, grad_fn=<NllLossBackward0>)"
            ]
          },
          "metadata": {},
          "execution_count": 68
        }
      ]
    },
    {
      "cell_type": "code",
      "source": [
        "emb = C[Xdev] # (32, 3, 2)\n",
        "h = torch.tanh(emb.view(-1, 30) @ W1 + b1) # (32, 100)\n",
        "logits = h @ W2 + b2 # (32, 27)\n",
        "loss = F.cross_entropy(logits, Ydev)\n",
        "loss"
      ],
      "metadata": {
        "colab": {
          "base_uri": "https://localhost:8080/"
        },
        "id": "UQQBT5rleawW",
        "outputId": "b81587f9-7fa7-449b-e273-e17b1b52e64e"
      },
      "execution_count": 69,
      "outputs": [
        {
          "output_type": "execute_result",
          "data": {
            "text/plain": [
              "tensor(2.1626, grad_fn=<NllLossBackward0>)"
            ]
          },
          "metadata": {},
          "execution_count": 69
        }
      ]
    },
    {
      "cell_type": "code",
      "source": [
        "# visualize dimensions 0 and 1 of the embedding matrix C for all characters\n",
        "plt.figure(figsize=(8,8))\n",
        "plt.scatter(C[:,0].data, C[:,1].data, s=200)\n",
        "for i in range(C.shape[0]):\n",
        "    plt.text(C[i,0].item(), C[i,1].item(), itos[i], ha=\"center\", va=\"center\", color='white')\n",
        "plt.grid('minor')"
      ],
      "metadata": {
        "colab": {
          "base_uri": "https://localhost:8080/",
          "height": 676
        },
        "id": "X7b13184efYK",
        "outputId": "9de32dd0-b17a-4751-e7e8-441144b63f6f"
      },
      "execution_count": 70,
      "outputs": [
        {
          "output_type": "display_data",
          "data": {
            "text/plain": [
              "<Figure size 800x800 with 1 Axes>"
            ],
            "image/png": "[encoded data removed]"
          },
          "metadata": {}
        }
      ]
    },
    {
      "cell_type": "code",
      "source": [
        "# sample from the model\n",
        "g = torch.Generator().manual_seed(2147483647 + 10)\n",
        "\n",
        "for _ in range(20):\n",
        "\n",
        "    out = []\n",
        "    context = [0] * block_size # initialize with all ...\n",
        "    while True:\n",
        "      emb = C[torch.tensor([context])] # (1,block_size,d) # [1,3,10]\n",
        "      h = torch.tanh(emb.view(1, -1) @ W1 + b1)\n",
        "      logits = h @ W2 + b2\n",
        "      probs = F.softmax(logits, dim=1) # exp, normalization\n",
        "      # returns a tensor where each row contains num_samples indices sampled\n",
        "      # from the multinomial probability distribution of the corresponding row in the input tensor.\n",
        "      ix = torch.multinomial(probs, num_samples=1, generator=g).item()\n",
        "      context = context[1:] + [ix]\n",
        "      out.append(ix)\n",
        "      if ix == 0:\n",
        "        break\n",
        "\n",
        "    print(''.join(itos[i] for i in out))"
      ],
      "metadata": {
        "colab": {
          "base_uri": "https://localhost:8080/"
        },
        "id": "kLnG1eCufFNR",
        "outputId": "b2e74774-cf7c-492b-d74a-4f7c54ce657c"
      },
      "execution_count": 72,
      "outputs": [
        {
          "output_type": "stream",
          "name": "stdout",
          "text": [
            "mora.\n",
            "mayah.\n",
            "see.\n",
            "mad.\n",
            "ryah.\n",
            "rethrus.\n",
            "jernee.\n",
            "azeredielin.\n",
            "shi.\n",
            "jenrekeiseananareelynn.\n",
            "hokelin.\n",
            "shubergahimiel.\n",
            "kindreelle.\n",
            "xnie.\n",
            "cay.\n",
            "brence.\n",
            "ryyah.\n",
            "fael.\n",
            "yuma.\n",
            "myskayleehal.\n"
          ]
        }
      ]
    }
  ]
}